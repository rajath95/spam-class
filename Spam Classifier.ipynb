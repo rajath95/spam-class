{
 "cells": [
  {
   "cell_type": "code",
   "execution_count": 201,
   "metadata": {
    "collapsed": true
   },
   "outputs": [],
   "source": [
    "import os\n",
    "import email\n",
    "import base64\n",
    "import numpy as np\n",
    "from bs4 import BeautifulSoup as soup"
   ]
  },
  {
   "cell_type": "code",
   "execution_count": null,
   "metadata": {},
   "outputs": [],
   "source": [
    "\n"
   ]
  },
  {
   "cell_type": "code",
   "execution_count": 202,
   "metadata": {},
   "outputs": [],
   "source": [
    "def extract(file_content):\n",
    "    #d=file_content.split(\"Subject:\")\n",
    "    #print d[1]\n",
    "    b = email.message_from_string(file_content)\n",
    "    if b.is_multipart():\n",
    "        a=''\n",
    "        for payload in b.get_payload():\n",
    "        # if payload.is_multipart(): ...\n",
    "             a.join(str(payload.get_payload()))\n",
    "             return a\n",
    "    else:\n",
    "        return b.get_payload()\n",
    "   \n",
    "\n"
   ]
  },
  {
   "cell_type": "code",
   "execution_count": 203,
   "metadata": {},
   "outputs": [],
   "source": [
    "def vectorize(body):\n",
    "    body=body.lower()\n",
    "    a=\"hello\"\n",
    "    b=\"how\"\n",
    "    c=\"are\"\n",
    "    d=\"you\"\n",
    "    l=[a,b,c,d]\n",
    "    a=[0,0,0,0]\n",
    "    for i,x in enumerate(l):\n",
    "        if x in body:\n",
    "            a[i]=1\n",
    "    return a\n",
    "    "
   ]
  },
  {
   "cell_type": "code",
   "execution_count": 216,
   "metadata": {},
   "outputs": [],
   "source": [
    "def create(folder_name):\n",
    "    \n",
    "    file_list=os.listdir(folder_name)\n",
    "    vector=[]\n",
    "       \n",
    "    for i in file_list:\n",
    "        path=os.path.join(folder_name,i)\n",
    "        f=open(path,'r').read()\n",
    "        body=extract(f) \n",
    "        vector.append(vectorize(body))\n",
    "    \n",
    "    return vector\n",
    "    \n",
    "    \n",
    "    \n",
    "    "
   ]
  },
  {
   "cell_type": "code",
   "execution_count": 239,
   "metadata": {},
   "outputs": [],
   "source": [
    "spam_vector=create(\"spam\")\n",
    "spam_label=np.ones([len(spam_vector),1])"
   ]
  },
  {
   "cell_type": "code",
   "execution_count": 245,
   "metadata": {},
   "outputs": [],
   "source": [
    "ham_vector=create(\"easy_ham\")\n",
    "ham_label=np.zeros([len(ham_vector),1])"
   ]
  },
  {
   "cell_type": "code",
   "execution_count": 246,
   "metadata": {},
   "outputs": [
    {
     "data": {
      "text/plain": [
       "array([[ 0.],\n",
       "       [ 0.],\n",
       "       [ 0.],\n",
       "       ..., \n",
       "       [ 0.],\n",
       "       [ 0.],\n",
       "       [ 0.]])"
      ]
     },
     "execution_count": 246,
     "metadata": {},
     "output_type": "execute_result"
    }
   ],
   "source": []
  },
  {
   "cell_type": "code",
   "execution_count": null,
   "metadata": {
    "collapsed": true
   },
   "outputs": [],
   "source": []
  }
 ],
 "metadata": {
  "kernelspec": {
   "display_name": "Python 2",
   "language": "python",
   "name": "python2"
  },
  "language_info": {
   "codemirror_mode": {
    "name": "ipython",
    "version": 2
   },
   "file_extension": ".py",
   "mimetype": "text/x-python",
   "name": "python",
   "nbconvert_exporter": "python",
   "pygments_lexer": "ipython2",
   "version": "2.7.6"
  }
 },
 "nbformat": 4,
 "nbformat_minor": 2
}
