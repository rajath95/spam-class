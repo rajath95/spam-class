{
 "cells": [
  {
   "cell_type": "code",
   "execution_count": 327,
   "metadata": {
    "collapsed": true
   },
   "outputs": [],
   "source": [
    "import os\n",
    "import email\n",
    "import base64\n",
    "import numpy as np\n",
    "import sklearn \n",
    "\n",
    "from bs4 import BeautifulSoup as soup"
   ]
  },
  {
   "cell_type": "code",
   "execution_count": 328,
   "metadata": {
    "collapsed": true
   },
   "outputs": [],
   "source": [
    "def extract(file_content):\n",
    "    #d=file_content.split(\"Subject:\")\n",
    "    #print d[1]\n",
    "    b = email.message_from_string(file_content)\n",
    "    if b.is_multipart():\n",
    "        a=''\n",
    "        for payload in b.get_payload():\n",
    "        # if payload.is_multipart(): ...\n",
    "             a.join(str(payload.get_payload()))\n",
    "             return a\n",
    "    else:\n",
    "        return b.get_payload()\n",
    "   \n",
    "\n"
   ]
  },
  {
   "cell_type": "code",
   "execution_count": 329,
   "metadata": {
    "collapsed": true
   },
   "outputs": [],
   "source": [
    "def vectorize(body):\n",
    "    body=body.lower()\n",
    "    a=\"hello\"\n",
    "    b=\"how\"\n",
    "    c=\"are\"\n",
    "    d=\"you\"\n",
    "    l=[a,b,c,d]\n",
    "    a=[0,0,0,0]\n",
    "    for i,x in enumerate(l):\n",
    "        if x in body:\n",
    "            a[i]=1\n",
    "    return a\n",
    "    "
   ]
  },
  {
   "cell_type": "code",
   "execution_count": 330,
   "metadata": {
    "collapsed": true
   },
   "outputs": [],
   "source": [
    "def create(folder_name):\n",
    "    \n",
    "    file_list=os.listdir(folder_name)\n",
    "    vector=[]\n",
    "       \n",
    "    for i in file_list:\n",
    "        path=os.path.join(folder_name,i)\n",
    "        f=open(path,'r').read()\n",
    "        body=extract(f) \n",
    "        vector.append(vectorize(body))\n",
    "    \n",
    "    return vector\n",
    "    \n",
    "    \n",
    "    \n",
    "    "
   ]
  },
  {
   "cell_type": "code",
   "execution_count": 331,
   "metadata": {
    "collapsed": true
   },
   "outputs": [],
   "source": [
    "def convert(arr):\n",
    "   \n",
    "    test=[]\n",
    "    for i in arr:\n",
    "        test.append(i[0])\n",
    "    test=np.asarray(test)\n",
    "    arr=test\n",
    "    return arr"
   ]
  },
  {
   "cell_type": "code",
   "execution_count": 332,
   "metadata": {
    "collapsed": true
   },
   "outputs": [],
   "source": [
    "spam_vector=np.asarray(create(\"spam\"))\n",
    "spam_label=np.ones([len(spam_vector),1])"
   ]
  },
  {
   "cell_type": "code",
   "execution_count": 333,
   "metadata": {},
   "outputs": [
    {
     "data": {
      "text/plain": [
       "numpy.ndarray"
      ]
     },
     "execution_count": 333,
     "metadata": {},
     "output_type": "execute_result"
    }
   ],
   "source": [
    "ham_vector=np.asarray(create(\"easy_ham\"))\n",
    "ham_label=np.zeros([len(ham_vector),1])\n",
    "\n",
    "type(ham_vector[3])"
   ]
  },
  {
   "cell_type": "code",
   "execution_count": 334,
   "metadata": {
    "collapsed": true
   },
   "outputs": [],
   "source": [
    "hard_ham_vector=np.asarray(create(\"hard_ham\"))\n",
    "hard_ham_label=np.zeros([len(hard_ham_vector),4])\n",
    "\n",
    "email_data=np.concatenate((spam_vector,ham_vector),axis=0)\n",
    "#email_data=np.concatenate((spam_vector,ham_vector,hard_ham_vector),axis=0)\n",
    "\n",
    "email_label=np.concatenate((spam_label,ham_label),axis=0)\n",
    "\n"
   ]
  },
  {
   "cell_type": "code",
   "execution_count": 335,
   "metadata": {
    "collapsed": true
   },
   "outputs": [],
   "source": [
    "from sklearn.model_selection import train_test_split\n",
    "\n",
    "train_set,test_set=train_test_split(email_data,test_size=0.1,random_state=42)\n",
    "train_label,test_label=train_test_split(email_label,test_size=0.1,random_state=42)"
   ]
  },
  {
   "cell_type": "code",
   "execution_count": 336,
   "metadata": {},
   "outputs": [],
   "source": [
    "test_label=convert(test_label)\n",
    "train_label=convert(train_label)\n",
    "\n",
    "\n"
   ]
  },
  {
   "cell_type": "code",
   "execution_count": 357,
   "metadata": {},
   "outputs": [],
   "source": [
    "def train(lf):\n",
    "    print(lf.fit(train_set,train_label.ravel()))\n",
    "    return accuracy_score(test_label,lf.predict(test_set))\n",
    "    "
   ]
  },
  {
   "cell_type": "code",
   "execution_count": 358,
   "metadata": {},
   "outputs": [
    {
     "name": "stdout",
     "output_type": "stream",
     "text": [
      "KNeighborsClassifier(algorithm='auto', leaf_size=30, metric='minkowski',\n",
      "           metric_params=None, n_jobs=1, n_neighbors=5, p=2,\n",
      "           weights='uniform')\n",
      "0.794117647059\n"
     ]
    }
   ],
   "source": [
    "from sklearn.neighbors import KNeighborsClassifier\n",
    "knn=KNeighborsClassifier()\n",
    "print(train(knn))"
   ]
  },
  {
   "cell_type": "code",
   "execution_count": 359,
   "metadata": {},
   "outputs": [
    {
     "name": "stdout",
     "output_type": "stream",
     "text": [
      "GaussianNB(priors=None)\n",
      "0.794117647059\n"
     ]
    }
   ],
   "source": [
    "from sklearn.naive_bayes import GaussianNB as GNB\n",
    "nbc=GNB()\n",
    "print(train(nbc))"
   ]
  },
  {
   "cell_type": "code",
   "execution_count": 360,
   "metadata": {},
   "outputs": [
    {
     "name": "stdout",
     "output_type": "stream",
     "text": [
      "SVC(C=1.0, cache_size=200, class_weight=None, coef0=0.0,\n",
      "  decision_function_shape=None, degree=3, gamma='auto', kernel='rbf',\n",
      "  max_iter=-1, probability=False, random_state=None, shrinking=True,\n",
      "  tol=0.001, verbose=False)\n",
      "0.794117647059\n"
     ]
    }
   ],
   "source": [
    "from sklearn import svm\n",
    "svc=svm.SVC()\n",
    "print(train(svc))\n"
   ]
  },
  {
   "cell_type": "code",
   "execution_count": 375,
   "metadata": {},
   "outputs": [
    {
     "data": {
      "text/plain": [
       "RandomForestRegressor(bootstrap=True, criterion='mse', max_depth=None,\n",
       "           max_features='auto', max_leaf_nodes=None,\n",
       "           min_impurity_split=1e-07, min_samples_leaf=1,\n",
       "           min_samples_split=2, min_weight_fraction_leaf=0.0,\n",
       "           n_estimators=10, n_jobs=1, oob_score=False, random_state=None,\n",
       "           verbose=0, warm_start=False)"
      ]
     },
     "execution_count": 375,
     "metadata": {},
     "output_type": "execute_result"
    }
   ],
   "source": [
    "from sklearn.ensemble import RandomForestRegressor\n",
    "forest_reg = RandomForestRegressor()\n",
    "forest_reg.fit(train_set, train_label)\n"
   ]
  },
  {
   "cell_type": "code",
   "execution_count": 383,
   "metadata": {},
   "outputs": [],
   "source": [
    "from sklearn.model_selection import GridSearchCV\n",
    "param_grid = [\n",
    "{'C':[0.010,00001,0.5,0.1],'cache_size':[10,50,100,200,300],'degree':[1,2,3,4,5]}\n",
    "\n",
    "]\n",
    "clf=GridSearchCV(svc,param_grid,cv=5,scoring=\"neg_mean_squared_error\")\n"
   ]
  },
  {
   "cell_type": "code",
   "execution_count": null,
   "metadata": {},
   "outputs": [],
   "source": [
    "clf.fit(train_set,train_label)"
   ]
  },
  {
   "cell_type": "code",
   "execution_count": null,
   "metadata": {},
   "outputs": [],
   "source": [
    "train(clf)"
   ]
  },
  {
   "cell_type": "code",
   "execution_count": null,
   "metadata": {
    "collapsed": true
   },
   "outputs": [],
   "source": []
  }
 ],
 "metadata": {
  "kernelspec": {
   "display_name": "Python 2",
   "language": "python",
   "name": "python2"
  },
  "language_info": {
   "codemirror_mode": {
    "name": "ipython",
    "version": 2
   },
   "file_extension": ".py",
   "mimetype": "text/x-python",
   "name": "python",
   "nbconvert_exporter": "python",
   "pygments_lexer": "ipython2",
   "version": "2.7.6"
  }
 },
 "nbformat": 4,
 "nbformat_minor": 2
}
