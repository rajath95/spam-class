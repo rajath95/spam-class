{
 "cells": [
  {
   "cell_type": "code",
   "execution_count": 1,
   "metadata": {
    "collapsed": true
   },
   "outputs": [],
   "source": [
    "import os\n",
    "import email\n",
    "import base64\n",
    "import numpy as np\n",
    "import sklearn \n",
    "\n",
    "from bs4 import BeautifulSoup as soup"
   ]
  },
  {
   "cell_type": "code",
   "execution_count": 2,
   "metadata": {
    "collapsed": true
   },
   "outputs": [],
   "source": [
    "def extract(file_content):\n",
    "    #d=file_content.split(\"Subject:\")\n",
    "    #print d[1]\n",
    "    b = email.message_from_string(file_content)\n",
    "    if b.is_multipart():\n",
    "        a=''\n",
    "        for payload in b.get_payload():\n",
    "        # if payload.is_multipart(): ...\n",
    "             a.join(str(payload.get_payload()))\n",
    "             return a\n",
    "    else:\n",
    "        return b.get_payload()\n",
    "   \n",
    "\n"
   ]
  },
  {
   "cell_type": "code",
   "execution_count": 3,
   "metadata": {
    "collapsed": true
   },
   "outputs": [],
   "source": [
    "def vectorize(body):\n",
    "    body=body.lower()\n",
    "    a=\"hello\"\n",
    "    b=\"how\"\n",
    "    c=\"are\"\n",
    "    d=\"you\"\n",
    "    l=[a,b,c,d]\n",
    "    a=[0,0,0,0]\n",
    "    for i,x in enumerate(l):\n",
    "        if x in body:\n",
    "            a[i]=1\n",
    "    return a\n",
    "    "
   ]
  },
  {
   "cell_type": "code",
   "execution_count": 4,
   "metadata": {
    "collapsed": true
   },
   "outputs": [],
   "source": [
    "def create(folder_name):\n",
    "    \n",
    "    file_list=os.listdir(folder_name)\n",
    "    vector=[]\n",
    "       \n",
    "    for i in file_list:\n",
    "        path=os.path.join(folder_name,i)\n",
    "        f=open(path,'r').read()\n",
    "        body=extract(f) \n",
    "        vector.append(vectorize(body))\n",
    "    \n",
    "    return vector\n",
    "    \n",
    "    \n",
    "    \n",
    "    "
   ]
  },
  {
   "cell_type": "code",
   "execution_count": 37,
   "metadata": {
    "collapsed": true
   },
   "outputs": [],
   "source": [
    "spam_vector=np.asarray(create(\"spam\"))\n",
    "spam_label=np.ones([len(spam_vector),1])"
   ]
  },
  {
   "cell_type": "code",
   "execution_count": 38,
   "metadata": {},
   "outputs": [
    {
     "data": {
      "text/plain": [
       "numpy.ndarray"
      ]
     },
     "execution_count": 38,
     "metadata": {},
     "output_type": "execute_result"
    }
   ],
   "source": [
    "ham_vector=np.asarray(create(\"easy_ham\"))\n",
    "ham_label=np.zeros([len(ham_vector),1])\n",
    "\n",
    "type(ham_vector[3])"
   ]
  },
  {
   "cell_type": "code",
   "execution_count": 41,
   "metadata": {},
   "outputs": [],
   "source": [
    "hard_ham_vector=np.asarray(create(\"hard_ham\"))\n",
    "hard_ham_label=np.zeros([len(hard_ham_vector),1])\n",
    "\n",
    "email_data=np.concatenate((spam_vector,ham_vector),axis=0)\n",
    "email_label=np.concatenate((spam_label,ham_label),axis=0)\n",
    "\n"
   ]
  },
  {
   "cell_type": "code",
   "execution_count": 42,
   "metadata": {},
   "outputs": [],
   "source": [
    "from sklearn.model_selection import train_test_split\n",
    "\n",
    "train_set,test_set=train_test_split(email_data,test_size=0.2,random_state=42)\n",
    "train_label,test_label=train_test_split(email_label,test_size=0.2,random_state=42)"
   ]
  },
  {
   "cell_type": "code",
   "execution_count": 51,
   "metadata": {},
   "outputs": [],
   "source": [
    "from sklearn import tree\n"
   ]
  },
  {
   "cell_type": "code",
   "execution_count": 52,
   "metadata": {},
   "outputs": [
    {
     "data": {
      "text/plain": [
       "DecisionTreeClassifier(class_weight=None, criterion='gini', max_depth=None,\n",
       "            max_features=None, max_leaf_nodes=None,\n",
       "            min_impurity_split=1e-07, min_samples_leaf=1,\n",
       "            min_samples_split=2, min_weight_fraction_leaf=0.0,\n",
       "            presort=False, random_state=None, splitter='best')"
      ]
     },
     "execution_count": 52,
     "metadata": {},
     "output_type": "execute_result"
    }
   ],
   "source": [
    "clf=tree.DecisionTreeClassifier()\n",
    "clf.fit(train_set,train_label)"
   ]
  },
  {
   "cell_type": "code",
   "execution_count": 55,
   "metadata": {},
   "outputs": [
    {
     "data": {
      "text/plain": [
       "0.81342062193126019"
      ]
     },
     "execution_count": 55,
     "metadata": {},
     "output_type": "execute_result"
    }
   ],
   "source": [
    "from sklearn.metrics import accuracy_score\n",
    "accuracy_score(test_label,clf.predict(test_set))"
   ]
  },
  {
   "cell_type": "code",
   "execution_count": null,
   "metadata": {
    "collapsed": true
   },
   "outputs": [],
   "source": []
  }
 ],
 "metadata": {
  "kernelspec": {
   "display_name": "Python 2",
   "language": "python",
   "name": "python2"
  },
  "language_info": {
   "codemirror_mode": {
    "name": "ipython",
    "version": 2
   },
   "file_extension": ".py",
   "mimetype": "text/x-python",
   "name": "python",
   "nbconvert_exporter": "python",
   "pygments_lexer": "ipython2",
   "version": "2.7.6"
  }
 },
 "nbformat": 4,
 "nbformat_minor": 2
}
